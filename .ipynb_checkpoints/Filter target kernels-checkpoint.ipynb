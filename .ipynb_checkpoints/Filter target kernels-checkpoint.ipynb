{
 "cells": [
  {
   "cell_type": "code",
   "execution_count": 13,
   "metadata": {},
   "outputs": [],
   "source": [
    "#import packages\n",
    "\n",
    "import os\n",
    "import glob\n",
    "import pandas as pd\n",
    "import numpy as np\n"
   ]
  },
  {
   "cell_type": "code",
   "execution_count": 14,
   "metadata": {},
   "outputs": [
    {
     "name": "stdout",
     "output_type": "stream",
     "text": [
      "['Competitions.csv', 'CompetitionTags.csv', 'Datasets.csv', 'DatasetTags.csv', 'DatasetVersions.csv', 'DatasetVotes.csv', 'Datasources.csv', 'EpisodeAgents.csv', 'Episodes.csv', 'ForumMessages.csv', 'ForumMessageVotes.csv', 'Forums.csv', 'ForumTopics.csv', 'KernelLanguages.csv', 'Kernels.csv', 'KernelTags.csv', 'KernelVersionCompetitionSources.csv', 'KernelVersionDatasetSources.csv', 'KernelVersionKernelSources.csv', 'KernelVersions.csv', 'KernelVotes.csv', 'Organizations.csv', 'Submissions.csv', 'Tags.csv', 'TeamMemberships.csv', 'Teams.csv', 'UserAchievements.csv', 'UserFollowers.csv', 'UserOrganizations.csv', 'Users.csv'] 30\n"
     ]
    }
   ],
   "source": [
    "#set base directory and point to files\n",
    "\n",
    "BASE = \"C:/Users/llschers/OneDrive - Indiana University/Documents/GitHub/Envisioning-Kaggle/Meta-Kaggle_10-25-2021\"\n",
    "extension = 'csv'\n",
    "os.chdir(BASE)\n",
    "meta_files = glob.glob('*.{}'.format(extension))\n",
    "print(meta_files, len(meta_files))"
   ]
  },
  {
   "cell_type": "code",
   "execution_count": 15,
   "metadata": {},
   "outputs": [
    {
     "data": {
      "text/html": [
       "<div>\n",
       "<style scoped>\n",
       "    .dataframe tbody tr th:only-of-type {\n",
       "        vertical-align: middle;\n",
       "    }\n",
       "\n",
       "    .dataframe tbody tr th {\n",
       "        vertical-align: top;\n",
       "    }\n",
       "\n",
       "    .dataframe thead th {\n",
       "        text-align: right;\n",
       "    }\n",
       "</style>\n",
       "<table border=\"1\" class=\"dataframe\">\n",
       "  <thead>\n",
       "    <tr style=\"text-align: right;\">\n",
       "      <th></th>\n",
       "      <th>Id</th>\n",
       "      <th>Slug</th>\n",
       "      <th>Title</th>\n",
       "      <th>Subtitle</th>\n",
       "      <th>HostSegmentTitle</th>\n",
       "      <th>ForumId</th>\n",
       "      <th>OrganizationId</th>\n",
       "      <th>CompetitionTypeId</th>\n",
       "      <th>HostName</th>\n",
       "      <th>EnabledDate</th>\n",
       "      <th>...</th>\n",
       "      <th>EnableSubmissionModelHashes</th>\n",
       "      <th>EnableSubmissionModelAttachments</th>\n",
       "      <th>RewardType</th>\n",
       "      <th>RewardQuantity</th>\n",
       "      <th>NumPrizes</th>\n",
       "      <th>UserRankMultiplier</th>\n",
       "      <th>CanQualifyTiers</th>\n",
       "      <th>TotalTeams</th>\n",
       "      <th>TotalCompetitors</th>\n",
       "      <th>TotalSubmissions</th>\n",
       "    </tr>\n",
       "  </thead>\n",
       "  <tbody>\n",
       "    <tr>\n",
       "      <th>3326</th>\n",
       "      <td>22990</td>\n",
       "      <td>hubmap-kidney-segmentation</td>\n",
       "      <td>HuBMAP - Hacking the Kidney</td>\n",
       "      <td>Identify glomeruli in human kidney tissue images</td>\n",
       "      <td>Research</td>\n",
       "      <td>995088.0</td>\n",
       "      <td>3760.0</td>\n",
       "      <td>1</td>\n",
       "      <td>NaN</td>\n",
       "      <td>11/16/2020 22:11:08</td>\n",
       "      <td>...</td>\n",
       "      <td>False</td>\n",
       "      <td>False</td>\n",
       "      <td>USD</td>\n",
       "      <td>60000.0</td>\n",
       "      <td>3</td>\n",
       "      <td>1.0</td>\n",
       "      <td>True</td>\n",
       "      <td>1200</td>\n",
       "      <td>1625</td>\n",
       "      <td>34699</td>\n",
       "    </tr>\n",
       "  </tbody>\n",
       "</table>\n",
       "<p>1 rows × 42 columns</p>\n",
       "</div>"
      ],
      "text/plain": [
       "         Id                        Slug                        Title  \\\n",
       "3326  22990  hubmap-kidney-segmentation  HuBMAP - Hacking the Kidney   \n",
       "\n",
       "                                              Subtitle HostSegmentTitle  \\\n",
       "3326  Identify glomeruli in human kidney tissue images         Research   \n",
       "\n",
       "       ForumId  OrganizationId  CompetitionTypeId HostName  \\\n",
       "3326  995088.0          3760.0                  1      NaN   \n",
       "\n",
       "              EnabledDate  ... EnableSubmissionModelHashes  \\\n",
       "3326  11/16/2020 22:11:08  ...                       False   \n",
       "\n",
       "     EnableSubmissionModelAttachments RewardType RewardQuantity NumPrizes  \\\n",
       "3326                            False        USD        60000.0         3   \n",
       "\n",
       "      UserRankMultiplier  CanQualifyTiers  TotalTeams  TotalCompetitors  \\\n",
       "3326                 1.0             True        1200              1625   \n",
       "\n",
       "      TotalSubmissions  \n",
       "3326             34699  \n",
       "\n",
       "[1 rows x 42 columns]"
      ]
     },
     "execution_count": 15,
     "metadata": {},
     "output_type": "execute_result"
    }
   ],
   "source": [
    "#read in dfs and declare variables to select competition of interest\n",
    "\n",
    "comps_df = pd.read_csv(BASE+'/Competitions.csv', parse_dates=['DeadlineDate'])\n",
    "\n",
    "### This is the line that is changes to select a competition ###\n",
    "\n",
    "comp_title = \"HuBMAP - Hacking the Kidney\"\n",
    "comp_overview = comps_df[comps_df.Title==comp_title]\n",
    "comp_id = comp_overview.iloc[0]['Id']\n",
    "comp_forum_id = comp_overview.iloc[0]['ForumId']\n",
    "comp_overview\n"
   ]
  },
  {
   "cell_type": "code",
   "execution_count": 16,
   "metadata": {},
   "outputs": [
    {
     "data": {
      "text/plain": [
       "(580900, 16)"
      ]
     },
     "execution_count": 16,
     "metadata": {},
     "output_type": "execute_result"
    }
   ],
   "source": [
    "# read in dataframe of kernels\n",
    "\n",
    "kernels_df = pd.read_csv(BASE+'/Kernels.csv', infer_datetime_format=True)\n",
    "kernels_df.shape"
   ]
  },
  {
   "cell_type": "code",
   "execution_count": 18,
   "metadata": {},
   "outputs": [],
   "source": [
    "# manually get info on a notebook\n",
    "\n",
    "#unknown_node = kernels_df[kernels_df.ForkParentKernelVersionId==48242891]\n",
    "#unknown_node\n"
   ]
  },
  {
   "cell_type": "code",
   "execution_count": 19,
   "metadata": {},
   "outputs": [
    {
     "data": {
      "text/plain": [
       "(1480407, 3)"
      ]
     },
     "execution_count": 19,
     "metadata": {},
     "output_type": "execute_result"
    }
   ],
   "source": [
    "#filter KernelVersionCompetitionSources.csv to get KernelVersionIds associated with CompetitionId\n",
    "kernelVersionCompetitionSources_df = pd.read_csv(BASE+'/KernelVersionCompetitionSources.csv', infer_datetime_format=True)\n",
    "#kernelVersionCompetitionSources_df.head()\n",
    "kernelVersionCompetitionSources_df.shape"
   ]
  },
  {
   "cell_type": "code",
   "execution_count": 20,
   "metadata": {},
   "outputs": [
    {
     "data": {
      "text/plain": [
       "(10072, 3)"
      ]
     },
     "execution_count": 20,
     "metadata": {},
     "output_type": "execute_result"
    }
   ],
   "source": [
    "kernels_in_comp_df = kernelVersionCompetitionSources_df[kernelVersionCompetitionSources_df.SourceCompetitionId==comp_id]\n",
    "kernels_in_comp_df.shape"
   ]
  },
  {
   "cell_type": "code",
   "execution_count": 21,
   "metadata": {},
   "outputs": [
    {
     "data": {
      "text/plain": [
       "10072"
      ]
     },
     "execution_count": 21,
     "metadata": {},
     "output_type": "execute_result"
    }
   ],
   "source": [
    "# make list of kernels in competition\n",
    "\n",
    "kernels_in_comp_list = list(kernels_in_comp_df.KernelVersionId)\n",
    "len(kernels_in_comp_list)"
   ]
  },
  {
   "cell_type": "code",
   "execution_count": 22,
   "metadata": {},
   "outputs": [
    {
     "data": {
      "text/plain": [
       "(801, 16)"
      ]
     },
     "execution_count": 22,
     "metadata": {},
     "output_type": "execute_result"
    }
   ],
   "source": [
    "#filter kernels.csv by the list of kernels in competition\n",
    "\n",
    "target_kernels_df = kernels_df[kernels_df.FirstKernelVersionId.isin(kernels_in_comp_list)].append(kernels_df[kernels_df.CurrentKernelVersionId.isin(kernels_in_comp_list)]).append(kernels_df[kernels_df.ForkParentKernelVersionId.isin(kernels_in_comp_list)])\n",
    "\n",
    "target_kernels_df.shape"
   ]
  },
  {
   "cell_type": "code",
   "execution_count": 23,
   "metadata": {},
   "outputs": [],
   "source": [
    "# write filtered kernels df to csv file\n",
    "\n",
    "target_kernels_df.to_csv(\"C:/Users/llschers/OneDrive - Indiana University/Documents/GitHub/Envisioning-Kaggle/Filtered Competition Metadata\"+'/targetKernels.csv')"
   ]
  },
  {
   "cell_type": "code",
   "execution_count": null,
   "metadata": {},
   "outputs": [],
   "source": []
  },
  {
   "cell_type": "code",
   "execution_count": null,
   "metadata": {},
   "outputs": [],
   "source": []
  }
 ],
 "metadata": {
  "kernelspec": {
   "display_name": "Python 3",
   "language": "python",
   "name": "python3"
  },
  "language_info": {
   "codemirror_mode": {
    "name": "ipython",
    "version": 3
   },
   "file_extension": ".py",
   "mimetype": "text/x-python",
   "name": "python",
   "nbconvert_exporter": "python",
   "pygments_lexer": "ipython3",
   "version": "3.8.5"
  }
 },
 "nbformat": 4,
 "nbformat_minor": 4
}
