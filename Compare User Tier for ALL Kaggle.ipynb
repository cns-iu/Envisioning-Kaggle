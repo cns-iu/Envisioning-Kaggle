{
 "cells": [
  {
   "cell_type": "code",
   "execution_count": 2,
   "metadata": {},
   "outputs": [
    {
     "data": {
      "image/png": "[encoded data removed]",
      "text/plain": [
       "<Figure size 432x288 with 1 Axes>"
      ]
     },
     "metadata": {
      "needs_background": "light"
     },
     "output_type": "display_data"
    }
   ],
   "source": [
    "import pandas as pd\n",
    "import numpy as np\n",
    "import matplotlib.pyplot as plt\n",
    "\n",
    "DIR = 'C:/Users/llschers/OneDrive - Indiana University/Documents/GitHub/Envisioning-Kaggle/Meta-Kaggle_10-25-2021'\n",
    "users_df = pd.read_csv(DIR+'/Users.csv', infer_datetime_format=True)\n",
    "\n",
    "hist_of_tier_all = plt.hist(users_df['PerformanceTier'], bins=[0, 1, 2, 3, 4, 5], rwidth=0.8)\n"
   ]
  },
  {
   "cell_type": "code",
   "execution_count": 3,
   "metadata": {},
   "outputs": [
    {
     "data": {
      "image/png": "[encoded data removed]",
      "text/plain": [
       "<Figure size 432x216 with 1 Axes>"
      ]
     },
     "metadata": {
      "needs_background": "light"
     },
     "output_type": "display_data"
    }
   ],
   "source": [
    "counts_all, bins, bars = hist_of_tier_all\n",
    "#counts_all\n",
    "tiers = ['Novice', 'Contributor', 'Expert', 'Master', 'Grand Master']\n",
    "#tiers\n",
    "tier_counts_all_df = pd.DataFrame(data={'Tier': tiers, 'NumOfUsers': counts_all})\n",
    "#tier_counts_all_df\n",
    "fig_all = plt.figure(figsize=(6,3))\n",
    "axes_all= fig_all.add_axes((0.2, 0.1, 0.75, 0.8))\n",
    "axes_all.barh(tier_counts_all_df.Tier, tier_counts_all_df.NumOfUsers, color=['limegreen', 'deepskyblue', 'mediumpurple', 'tomato', 'gold'])\n",
    "\n",
    "for i, v in enumerate(tier_counts_all_df.NumOfUsers):\n",
    "    plt.text(v + 0, i + .1, str(int(v)), color='black', fontsize='small')\n",
    "    \n",
    "plt.title(\"Barplot of All User Tier\")\n",
    "plt.savefig('All user tier barplot.png')\n",
    "plt.show()"
   ]
  },
  {
   "cell_type": "code",
   "execution_count": 4,
   "metadata": {},
   "outputs": [
    {
     "data": {
      "text/plain": [
       "8236595.85"
      ]
     },
     "execution_count": 4,
     "metadata": {},
     "output_type": "execute_result"
    },
    {
     "data": {
      "image/png": "[encoded data removed]",
      "text/plain": [
       "<Figure size 432x288 with 1 Axes>"
      ]
     },
     "metadata": {
      "needs_background": "light"
     },
     "output_type": "display_data"
    }
   ],
   "source": [
    "tier_bins=5\n",
    "hist_of_tier_all = plt.hist(users_df['PerformanceTier'], bins=[0, 1, 2, 3, 4, 5], rwidth=0.8)\n",
    "plt.title(\"Histogram of All Kaggle User Tier\")\n",
    "plt.xlabel(\"Tier\")\n",
    "plt.ylabel(\"Number of Users\")\n",
    "for i in range(tier_bins):\n",
    "    plt.text(hist_of_tier_all[1][i],hist_of_tier_all[0][i],str(hist_of_tier_all[0][i]))\n",
    "    \n",
    "bottom, top = plt.ylim()\n",
    "top"
   ]
  },
  {
   "cell_type": "code",
   "execution_count": null,
   "metadata": {},
   "outputs": [],
   "source": []
  },
  {
   "cell_type": "code",
   "execution_count": 5,
   "metadata": {},
   "outputs": [
    {
     "data": {
      "text/plain": [
       "23823"
      ]
     },
     "execution_count": 5,
     "metadata": {},
     "output_type": "execute_result"
    }
   ],
   "source": [
    "# Now for HPA\n",
    "\n",
    "#read in dfs and declare variables to select competition of interest\n",
    "\n",
    "comps_df = pd.read_csv(DIR+'/Competitions.csv', parse_dates=['DeadlineDate'])\n",
    "\n",
    "comp_title = \"Human Protein Atlas - Single Cell Classification\"\n",
    "comp_overview = comps_df[comps_df.Title==comp_title]\n",
    "comp_id = comp_overview.iloc[0]['Id']\n",
    "\n",
    "comp_id"
   ]
  },
  {
   "cell_type": "code",
   "execution_count": 6,
   "metadata": {},
   "outputs": [
    {
     "data": {
      "text/plain": [
       "758"
      ]
     },
     "execution_count": 6,
     "metadata": {},
     "output_type": "execute_result"
    }
   ],
   "source": [
    "teams_df = pd.read_csv(DIR+'/Teams.csv', infer_datetime_format=True)\n",
    "\n",
    "comp_teams_df = teams_df[teams_df.CompetitionId==comp_id].dropna(subset=['LastSubmissionDate'])\n",
    "\n",
    "team_ids_list = comp_teams_df.Id.unique().tolist()\n",
    "len(team_ids_list)"
   ]
  },
  {
   "cell_type": "code",
   "execution_count": 7,
   "metadata": {},
   "outputs": [
    {
     "data": {
      "text/plain": [
       "(4688946, 4)"
      ]
     },
     "execution_count": 7,
     "metadata": {},
     "output_type": "execute_result"
    }
   ],
   "source": [
    "team_memberships_df = pd.read_csv(DIR+'/TeamMemberships.csv', infer_datetime_format=True)\n",
    "team_memberships_df.shape"
   ]
  },
  {
   "cell_type": "code",
   "execution_count": 8,
   "metadata": {},
   "outputs": [
    {
     "data": {
      "text/html": [
       "<div>\n",
       "<style scoped>\n",
       "    .dataframe tbody tr th:only-of-type {\n",
       "        vertical-align: middle;\n",
       "    }\n",
       "\n",
       "    .dataframe tbody tr th {\n",
       "        vertical-align: top;\n",
       "    }\n",
       "\n",
       "    .dataframe thead th {\n",
       "        text-align: right;\n",
       "    }\n",
       "</style>\n",
       "<table border=\"1\" class=\"dataframe\">\n",
       "  <thead>\n",
       "    <tr style=\"text-align: right;\">\n",
       "      <th></th>\n",
       "      <th>Id</th>\n",
       "      <th>TeamId</th>\n",
       "      <th>UserId</th>\n",
       "      <th>RequestDate</th>\n",
       "    </tr>\n",
       "  </thead>\n",
       "  <tbody>\n",
       "    <tr>\n",
       "      <th>4111659</th>\n",
       "      <td>6392100</td>\n",
       "      <td>6211199</td>\n",
       "      <td>3460291</td>\n",
       "      <td>01/27/2021</td>\n",
       "    </tr>\n",
       "    <tr>\n",
       "      <th>4111663</th>\n",
       "      <td>6392113</td>\n",
       "      <td>6211212</td>\n",
       "      <td>2027611</td>\n",
       "      <td>01/27/2021</td>\n",
       "    </tr>\n",
       "    <tr>\n",
       "      <th>4111669</th>\n",
       "      <td>6392143</td>\n",
       "      <td>6211242</td>\n",
       "      <td>5207741</td>\n",
       "      <td>01/27/2021</td>\n",
       "    </tr>\n",
       "    <tr>\n",
       "      <th>4111671</th>\n",
       "      <td>6392159</td>\n",
       "      <td>6211259</td>\n",
       "      <td>2294613</td>\n",
       "      <td>01/27/2021</td>\n",
       "    </tr>\n",
       "    <tr>\n",
       "      <th>4111672</th>\n",
       "      <td>6392161</td>\n",
       "      <td>6211261</td>\n",
       "      <td>5092791</td>\n",
       "      <td>01/27/2021</td>\n",
       "    </tr>\n",
       "  </tbody>\n",
       "</table>\n",
       "</div>"
      ],
      "text/plain": [
       "              Id   TeamId   UserId RequestDate\n",
       "4111659  6392100  6211199  3460291  01/27/2021\n",
       "4111663  6392113  6211212  2027611  01/27/2021\n",
       "4111669  6392143  6211242  5207741  01/27/2021\n",
       "4111671  6392159  6211259  2294613  01/27/2021\n",
       "4111672  6392161  6211261  5092791  01/27/2021"
      ]
     },
     "execution_count": 8,
     "metadata": {},
     "output_type": "execute_result"
    }
   ],
   "source": [
    "comp_team_memberships_df = team_memberships_df[team_memberships_df.TeamId.isin(team_ids_list)]\n",
    "comp_team_memberships_df.head(5)"
   ]
  },
  {
   "cell_type": "code",
   "execution_count": 9,
   "metadata": {},
   "outputs": [],
   "source": [
    "comp_users_list = list(comp_team_memberships_df.UserId.unique())\n",
    "#comp_users_list\n",
    "comp_users_df = users_df[users_df.Id.isin(comp_users_list)]"
   ]
  },
  {
   "cell_type": "code",
   "execution_count": null,
   "metadata": {},
   "outputs": [],
   "source": [
    "\n"
   ]
  },
  {
   "cell_type": "code",
   "execution_count": 10,
   "metadata": {},
   "outputs": [
    {
     "data": {
      "text/plain": [
       "(0.0, 768.6)"
      ]
     },
     "execution_count": 10,
     "metadata": {},
     "output_type": "execute_result"
    },
    {
     "data": {
      "image/png": "[encoded data removed]",
      "text/plain": [
       "<Figure size 432x288 with 1 Axes>"
      ]
     },
     "metadata": {
      "needs_background": "light"
     },
     "output_type": "display_data"
    }
   ],
   "source": [
    "tier_bins=5\n",
    "hist_of_tier_hpa = plt.hist(comp_users_df['PerformanceTier'], bins=[0, 1, 2, 3, 4, 5], rwidth=0.8)\n",
    "plt.title(\"Histogram of HPA - Single Cell Classification User Tier\")\n",
    "plt.xlabel(\"Tier\")\n",
    "plt.ylabel(\"Number of Users\")\n",
    "for i in range(tier_bins):\n",
    "    plt.text(hist_of_tier_hpa[1][i],hist_of_tier_hpa[0][i],str(hist_of_tier_hpa[0][i]))\n",
    "    \n",
    "plt.ylim(top=768.6)"
   ]
  },
  {
   "cell_type": "code",
   "execution_count": 11,
   "metadata": {},
   "outputs": [
    {
     "data": {
      "image/png": "[encoded data removed]",
      "text/plain": [
       "<Figure size 432x216 with 1 Axes>"
      ]
     },
     "metadata": {
      "needs_background": "light"
     },
     "output_type": "display_data"
    }
   ],
   "source": [
    "counts_hpa, bins, bars = hist_of_tier_hpa\n",
    "#counts_all\n",
    "tiers = ['Novice', 'Contributor', 'Expert', 'Master', 'Grand Master']\n",
    "#tiers\n",
    "tier_counts_hpa_df = pd.DataFrame(data={'Tier': tiers, 'NumOfUsers': counts_hpa})\n",
    "#tier_counts_hpa_df\n",
    "fig_hpa = plt.figure(figsize=(6,3))\n",
    "axes_hpa= fig_hpa.add_axes((0.2, 0.1, 0.75, 0.8))\n",
    "axes_hpa.barh(tier_counts_hpa_df.Tier, tier_counts_hpa_df.NumOfUsers, color=['limegreen', 'deepskyblue', 'mediumpurple', 'tomato', 'gold'])\n",
    "\n",
    "for i, v in enumerate(tier_counts_hpa_df.NumOfUsers):\n",
    "    plt.text(v + 0, i + .1, str(int(v)), color='black', fontsize='small')\n",
    "    \n",
    "plt.xlim(right=768.6)\n",
    "plt.title(\"Barplot of HPA - Single Cell Classification User Tier\")\n",
    "plt.savefig('HPA user tier barplot.png')\n",
    "plt.show()"
   ]
  },
  {
   "cell_type": "code",
   "execution_count": null,
   "metadata": {},
   "outputs": [],
   "source": []
  }
 ],
 "metadata": {
  "kernelspec": {
   "display_name": "Python 3",
   "language": "python",
   "name": "python3"
  },
  "language_info": {
   "codemirror_mode": {
    "name": "ipython",
    "version": 3
   },
   "file_extension": ".py",
   "mimetype": "text/x-python",
   "name": "python",
   "nbconvert_exporter": "python",
   "pygments_lexer": "ipython3",
   "version": "3.8.5"
  }
 },
 "nbformat": 4,
 "nbformat_minor": 4
}
